{
 "cells": [
  {
   "cell_type": "code",
   "execution_count": 21,
   "id": "2830ae18",
   "metadata": {},
   "outputs": [],
   "source": [
    "import glob\n",
    "import matplotlib.pyplot as plt\n",
    "import numpy as np\n",
    "import os\n",
    "from astropy.io import fits,ascii\n",
    "from astropy.table import Table\n",
    "from astropy.cosmology import FlatLambdaCDM\n",
    "plt.style.use('science')"
   ]
  },
  {
   "cell_type": "code",
   "execution_count": 5,
   "id": "21037286",
   "metadata": {},
   "outputs": [
    {
     "name": "stdout",
     "output_type": "stream",
     "text": [
      "/Users/chrismac/python/stack_spectra/Base_files/257_A1689_slitcorr.fits\n",
      "/Users/chrismac/python/stack_spectra/Base_files/2614_M1149_slitcorr.fits\n",
      "/Users/chrismac/python/stack_spectra/Base_files/1637_for_stack.fits\n",
      "/Users/chrismac/python/stack_spectra/Base_files/470_for_stack.fits\n",
      "/Users/chrismac/python/stack_spectra/Base_files/1014_for_stack.fits\n",
      "/Users/chrismac/python/stack_spectra/Base_files/1829_for_stack.fits\n",
      "/Users/chrismac/python/stack_spectra/Base_files/1751_for_stack.fits\n",
      "/Users/chrismac/python/stack_spectra/Base_files/2331_M1149_slitcorr.fits\n",
      "/Users/chrismac/python/stack_spectra/Base_files/30003_for_stack.fits\n",
      "/Users/chrismac/python/stack_spectra/Base_files/1467_for_stack.fits\n",
      "/Users/chrismac/python/stack_spectra/Base_files/2223_for_stack.fits\n",
      "/Users/chrismac/python/stack_spectra/Base_files/1721_M1149_slitcorr.fits\n",
      "/Users/chrismac/python/stack_spectra/Base_files/1337_for_stack.fits\n",
      "/Users/chrismac/python/stack_spectra/Base_files/280_A1689_slitcorr.fits\n",
      "/Users/chrismac/python/stack_spectra/Base_files/1098_M1149_slitcorr.fits\n",
      "/Users/chrismac/python/stack_spectra/Base_files/2698_for_stack.fits\n",
      "/Users/chrismac/python/stack_spectra/Base_files/1689_for_stack.fits\n",
      "/Users/chrismac/python/stack_spectra/Base_files/2821_M0717_slitcorr.fits\n",
      "/Users/chrismac/python/stack_spectra/Base_files/454_for_stack.fits\n",
      "/Users/chrismac/python/stack_spectra/Base_files/539_for_stack.fits\n",
      "/Users/chrismac/python/stack_spectra/Base_files/2067_M1149_slitcorr.fits\n",
      "/Users/chrismac/python/stack_spectra/Base_files/345_A1689_slitcorr.fits\n",
      "/Users/chrismac/python/stack_spectra/Base_files/40011_for_stack.fits\n",
      "/Users/chrismac/python/stack_spectra/Base_files/10012_for_stack.fits\n",
      "/Users/chrismac/python/stack_spectra/Base_files/523_for_stack.fits\n",
      "/Users/chrismac/python/stack_spectra/Base_files/1034_for_stack.fits\n",
      "/Users/chrismac/python/stack_spectra/Base_files/537_for_stack.fits\n",
      "/Users/chrismac/python/stack_spectra/Base_files/213_M1149_slitcorr.fits\n",
      "/Users/chrismac/python/stack_spectra/Base_files/1197_A1689_slitcorr.fits\n"
     ]
    }
   ],
   "source": [
    "for f in glob.glob('/Users/chrismac/python/stack_spectra/Base_files/*'):\n",
    "         hdu = fits.open(f)\n",
    "         data = hdu[1].data\n",
    "         print(f)\n",
    "         mask = (data['wave'] > 3100) & (data['wave'] < 5450)\n",
    "         t = Table((data['wave'][mask],data['flux'][mask],data['sig'][mask]),names=('wave','flux','sig'))\n",
    "         t.write(f.split('/')[-1].split('_')[0] + '_test.fits',overwrite=True)"
   ]
  },
  {
   "cell_type": "code",
   "execution_count": 30,
   "id": "6ece8f6d",
   "metadata": {},
   "outputs": [],
   "source": [
    "data = ascii.read('Full_table.txt')#not available in this folder\n",
    "cut_list = [363,499,680,991,1037,1059,1212,1451,1488,2395,2889,10012,10013,10030,1000]\n",
    "LRIS_cut_list = [40000,10030,10013,10004,2889,2395,1488,1471,1451,1212,1117,1059,1037,1000,991,946,680,499]\n",
    "mask = [False if data['Names'][i] in cut_list else True for i in range(len(data['Names']))]\n",
    "LRIS_mask = [False if data['Names'][i] in LRIS_cut_list else True for i in range(len(data['Names']))]\n",
    "cosmo = FlatLambdaCDM(H0=70,Om0=0.3,Ob0=0.05,Tcmb0=2.725)\n",
    "d = cosmo.luminosity_distance(data['Z_Lya']).value\n",
    "filt_alt = [data['F475W/F435W'][i] if (((data['Z_Lya'][i] < 1.83) and (data['Cluster'][i] != 'A1689')) or ((data['Z_Lya'][i] < 2.24) and (data['Cluster'][i] == 'A1689'))) else data['F625W/F606W'][i] for i in range(len(data['F625W/F606W']))]\n",
    "filt_alt_err = [data['EF475W/EF435W'][i] if (((data['Z_Lya'][i] < 1.83) and (data['Cluster'][i] != 'A1689')) or ((data['Z_Lya'][i] < 2.24) and (data['Cluster'][i] == 'A1689'))) else data['EF625W/EF606W'][i] for i in range(len(data['EF625W/EF606W']))]\n",
    "M_UV_alt = -2.5*np.log10(filt_alt)-48.6 - 5*np.log10(d*1e6) + 5 + 2.5*np.log10(data['Z_Lya']+1.0) + data['Magn']\n",
    "M_UV_alt_err = 2.5*np.array(filt_alt_err)/(np.array(filt_alt)*np.log(10))"
   ]
  },
  {
   "cell_type": "code",
   "execution_count": 10,
   "id": "a8b358b3",
   "metadata": {},
   "outputs": [],
   "source": [
    "filt_alt = np.array(filt_alt)\n",
    "filt_alt_err = np.array(filt_alt_err)\n",
    "c1 = fits.Column('ID',format='D',array=data['Names'][(data['Halpha']>0)&(mask)&(M_UV_alt>-19)])\n",
    "c2 = fits.Column('Mask',format='A18',array=['A1689_1']*len(data['Names'][(data['Halpha']>0)&(mask)&(M_UV_alt>-19)]))\n",
    "c3 = fits.Column('Weighted_z',format='D',array=data['Spec_z'][(data['Halpha']>0)&(mask)&(M_UV_alt>-19)])\n",
    "c4 = fits.Column('Weighted_z_sig',format='D',array=[data['Spec_z_err'][(data['Halpha']>0)&(mask)&(M_UV_alt>-19)][i] if data['Spec_z_err'][(data['Halpha']>0)&(mask)&(M_UV_alt>-19)][i] != -1 else data['Z_Lya_uperr'][(data['Halpha']>0)&(mask)&(M_UV_alt>-19)][i] for i in range(len(data['Spec_z'][(data['Halpha']>0)&(mask)&(M_UV_alt>-19)]))])\n",
    "c5 = fits.Column('Multiple_Images',format='L',array=[False]*len(data['Names'][(data['Halpha']>0)&(mask)&(M_UV_alt>-19)]))\n",
    "c6 = fits.Column('L_UV',format='D',array=filt_alt[(data['Halpha']>0)&(mask)&(M_UV_alt>-19)]*1e30)\n",
    "c7 = fits.Column('L_UV_sig',format='D',array=filt_alt_err[(data['Halpha']>0)&(mask)&(M_UV_alt>-19)]*1e30)"
   ]
  },
  {
   "cell_type": "code",
   "execution_count": 12,
   "id": "3f80694a",
   "metadata": {},
   "outputs": [],
   "source": [
    "cols = fits.ColDefs([c1,c2,c3,c4,c5,c6,c7])\n",
    "T = fits.BinTableHDU.from_columns(cols)\n",
    "T.writeto('fesc_stack.fits',overwrite=True)"
   ]
  },
  {
   "cell_type": "code",
   "execution_count": 22,
   "id": "7846e58e",
   "metadata": {},
   "outputs": [
    {
     "data": {
      "text/plain": [
       "Text(0.5, 0, '$\\\\lambda\\\\;\\\\rm(\\\\AA)$')"
      ]
     },
     "execution_count": 22,
     "metadata": {},
     "output_type": "execute_result"
    },
    {
     "data": {
      "image/png": "[encoded data removed]",
      "text/plain": [
       "<Figure size 576x504 with 1 Axes>"
      ]
     },
     "metadata": {
      "needs_background": "light"
     },
     "output_type": "display_data"
    }
   ],
   "source": [
    "spec = ascii.read('stacked_spectrum_LRIS-bands_weighted-average_Lum_Density_noDC.txt')\n",
    "fig,ax = plt.subplots(figsize=(8,7))\n",
    "ax.plot(spec['col1'],spec['col2'])\n",
    "ax.set_ylabel(r'$f_{\\lambda}\\;\\rm(erg/s/cm^2/\\AA)$')\n",
    "ax.set_xlabel(r'$\\lambda\\;\\rm(\\AA)$')"
   ]
  },
  {
   "cell_type": "code",
   "execution_count": 32,
   "id": "9c8da616",
   "metadata": {},
   "outputs": [
    {
     "data": {
      "text/html": [
       "&lt;Column name=&apos;Z_Lya&apos; dtype=&apos;float64&apos; length=1&gt;\n",
       "<table>\n",
       "<tr><td>-16.87182552159305</td></tr>\n",
       "</table>"
      ],
      "text/plain": [
       "<Column name='Z_Lya' dtype='float64' length=1>\n",
       "-16.87182552159305"
      ]
     },
     "execution_count": 32,
     "metadata": {},
     "output_type": "execute_result"
    }
   ],
   "source": [
    "M_UV_alt[data['Names']==40000]"
   ]
  },
  {
   "cell_type": "code",
   "execution_count": null,
   "id": "c24d2c1a",
   "metadata": {},
   "outputs": [],
   "source": []
  }
 ],
 "metadata": {
  "kernelspec": {
   "display_name": "Python 3 (ipykernel)",
   "language": "python",
   "name": "python3"
  },
  "language_info": {
   "codemirror_mode": {
    "name": "ipython",
    "version": 3
   },
   "file_extension": ".py",
   "mimetype": "text/x-python",
   "name": "python",
   "nbconvert_exporter": "python",
   "pygments_lexer": "ipython3",
   "version": "3.9.12"
  }
 },
 "nbformat": 4,
 "nbformat_minor": 5
}
